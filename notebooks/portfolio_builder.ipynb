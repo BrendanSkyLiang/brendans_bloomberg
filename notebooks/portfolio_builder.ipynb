{
 "cells": [
  {
   "cell_type": "code",
   "execution_count": null,
   "metadata": {},
   "outputs": [],
   "source": [
    "import sys\n",
    "sys.path.append(r'/Users/brendanliang/Code/brendans_bloomberg') \n",
    "import numpy as np\n",
    "import pandas as pd\n",
    "import math\n",
    "import os\n",
    "import subprocess\n",
    "import shlex\n",
    "import matplotlib.pyplot as plt\n",
    "from datetime import datetime\n",
    "from tools.helper.pandas_tools import find_col_index\n",
    "from interface.company import Company\n",
    "from interface.indicator import Yahoo_Indicator\n",
    "from interface.forex import forex"
   ]
  }
 ],
 "metadata": {
  "language_info": {
   "name": "python"
  }
 },
 "nbformat": 4,
 "nbformat_minor": 2
}
