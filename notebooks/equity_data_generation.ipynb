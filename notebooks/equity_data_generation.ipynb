{
 "cells": [
  {
   "cell_type": "code",
   "execution_count": 3,
   "metadata": {},
   "outputs": [],
   "source": [
    "import sys\n",
    "sys.path.append(r'/Users/brendanliang/Code/brendans_bloomberg')\n",
    "from interface.data_sources.api_key import api_key\n",
    "import pandas as pd\n",
    "import numpy as np\n",
    "import os\n",
    "import fmpsdk\n",
    "from src.equity_data_download import download_equity_data\n",
    "import time\n",
    "from tqdm import tqdm"
   ]
  },
  {
   "cell_type": "code",
   "execution_count": 4,
   "metadata": {},
   "outputs": [],
   "source": [
    "# tickers = fmpsdk.stock_screener(apikey=api_key, market_cap_more_than=500000000, is_etf=False, exchange=[\"NYSE\",\"NASDAQ\",\"HKSE\",\"LSE\",\"EURONEXT\"],limit=100000, is_actively_trading=True)\n",
    "filtered_list = []\n",
    "tickers = fmpsdk.stock_screener(apikey=api_key, market_cap_more_than=500000000, is_etf=False, exchange=[\"NYSE\",\"NASDAQ\"],limit=100000, is_actively_trading=True)\n",
    "for ticker in tickers:\n",
    "    if (ticker[\"sector\"] is not None) and len(ticker[\"sector\"]) >= 1:\n",
    "        filtered_list.append(ticker[\"symbol\"])"
   ]
  },
  {
   "cell_type": "code",
   "execution_count": 5,
   "metadata": {},
   "outputs": [
    {
     "name": "stderr",
     "output_type": "stream",
     "text": [
      "  0%|                                                                      | 0/5031 [00:00<?, ?it/s]"
     ]
    },
    {
     "name": "stdout",
     "output_type": "stream",
     "text": [
      "MSFT has been updated\n"
     ]
    },
    {
     "name": "stderr",
     "output_type": "stream",
     "text": [
      "  0%|                                                            | 1/5031 [00:06<9:16:20,  6.64s/it]"
     ]
    },
    {
     "name": "stdout",
     "output_type": "stream",
     "text": [
      "AAPL has been updated\n"
     ]
    },
    {
     "name": "stderr",
     "output_type": "stream",
     "text": [
      "  0%|                                                           | 3/5031 [00:21<10:14:09,  7.33s/it]"
     ]
    },
    {
     "name": "stdout",
     "output_type": "stream",
     "text": [
      "skipped NVDA\n",
      "GOOGL has been updated\n"
     ]
    },
    {
     "ename": "",
     "evalue": "",
     "output_type": "error",
     "traceback": [
      "\u001b[1;31mCannot execute code, session has been disposed. Please try restarting the Kernel."
     ]
    },
    {
     "ename": "",
     "evalue": "",
     "output_type": "error",
     "traceback": [
      "\u001b[1;31mCannot execute code, session has been disposed. Please try restarting the Kernel. \n",
      "\u001b[1;31mView Jupyter <a href='command:jupyter.viewOutput'>log</a> for further details."
     ]
    }
   ],
   "source": [
    "\n",
    "for idx in tqdm(range(len(filtered_list)), ncols=100):\n",
    "    ticker = filtered_list[idx]\n",
    "    try:\n",
    "        download_equity_data(ticker)\n",
    "        time.sleep(0.1)\n",
    "    except: \n",
    "        time.sleep(5)\n",
    "        print(f\"skipped {ticker}\")"
   ]
  }
 ],
 "metadata": {
  "kernelspec": {
   "display_name": "py39",
   "language": "python",
   "name": "python3"
  },
  "language_info": {
   "codemirror_mode": {
    "name": "ipython",
    "version": 3
   },
   "file_extension": ".py",
   "mimetype": "text/x-python",
   "name": "python",
   "nbconvert_exporter": "python",
   "pygments_lexer": "ipython3",
   "version": "3.9.16"
  }
 },
 "nbformat": 4,
 "nbformat_minor": 2
}
